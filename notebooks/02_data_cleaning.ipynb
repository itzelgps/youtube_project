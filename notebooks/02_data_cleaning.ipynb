{
 "cells": [
  {
   "cell_type": "markdown",
   "id": "e02db61a",
   "metadata": {},
   "source": [
    "## data_cleaning"
   ]
  },
  {
   "cell_type": "code",
   "execution_count": 7,
   "id": "8cf90def-6003-49f0-b471-579e246fd797",
   "metadata": {},
   "outputs": [
    {
     "name": "stdout",
     "output_type": "stream",
     "text": [
      "   Unnamed: 0                                           title publishedAt  \\\n",
      "0           0  POR FIN UNA BUENA SERIE EN NETFLIX - INDOMABLE  2025-08-17   \n",
      "1           1                RIESGO EN EL AÍRE EN PRIME VIDEO  2025-08-16   \n",
      "2           2               ¿POR QUÉ MEGAMENTE ES UN CLÁSICO?  2025-08-15   \n",
      "3           3                    TOGETHER MUY RARA e INCOMODA  2025-08-13   \n",
      "4           4                               LOS TIPOS MALOS 2  2025-08-12   \n",
      "\n",
      "   viewCount  likeCount  commentCount Month  \n",
      "0      46528       3511           720   Aug  \n",
      "1      72834       4252          1053   Aug  \n",
      "2      73864       6681           858   Aug  \n",
      "3      74048       4864           543   Aug  \n",
      "4      81777       6073           687   Aug  \n",
      "✅ Limpieza y transformación completada. Archivo guardado en data/processed/final_dataset.csv\n"
     ]
    }
   ],
   "source": [
    "import pandas as pd\n",
    "\n",
    "# 1. Cargar datos\n",
    "df = pd.read_csv(\"../data/raw/video.csv\")\n",
    "\n",
    "# 2. Vista previa\n",
    "print(df.head())\n",
    "\n",
    "# 3. Convertir columnas numéricas\n",
    "df[\"viewCount\"] = pd.to_numeric(df[\"viewCount\"], errors=\"coerce\")\n",
    "df[\"likeCount\"] = pd.to_numeric(df[\"likeCount\"], errors=\"coerce\")\n",
    "df[\"commentCount\"] = pd.to_numeric(df[\"commentCount\"], errors=\"coerce\")\n",
    "\n",
    "# 4. Convertir fecha\n",
    "df[\"publishedAt\"] = pd.to_datetime(df[\"publishedAt\"], errors=\"coerce\")\n",
    "\n",
    "# 5. Eliminar duplicados por ID de video\n",
    "df.drop_duplicates(subset=\"Unnamed: 0\", inplace=True)\n",
    "\n",
    "# 6. Limpiar textos (quitar espacios extras)\n",
    "df[\"title\"] = df[\"title\"].str.strip()\n",
    "\n",
    "# 7. Calcular Engagement Rate\n",
    "df[\"engagement_rate\"] = ((df[\"likeCount\"] + df[\"commentCount\"]) / df[\"viewCount\"]) * 100\n",
    "\n",
    "# 8. Ordenar por mayor engagement\n",
    "df = df.sort_values(by=\"engagement_rate\", ascending=False)\n",
    "\n",
    "# 9. Guardar dataset procesado\n",
    "df.to_csv(\"../data/processed/final_dataset.csv\", index=False)\n",
    "\n",
    "print(\"✅ Limpieza y transformación completada. Archivo guardado en data/processed/final_dataset.csv\")\n"
   ]
  },
  {
   "cell_type": "markdown",
   "id": "ba6132a6",
   "metadata": {},
   "source": [
    "## 🔗 Unificación de datos para análisis posterior"
   ]
  },
  {
   "cell_type": "code",
   "execution_count": 8,
   "id": "9a978b16",
   "metadata": {},
   "outputs": [
    {
     "name": "stdout",
     "output_type": "stream",
     "text": [
      "✅ Dataset combinado guardado en data/processed/youtube_trends_dataset.csv\n"
     ]
    }
   ],
   "source": [
    "# Cargar datasets\n",
    "df_youtube = pd.read_csv(\"../data/processed/final_dataset.csv\")\n",
    "df_trends = pd.read_csv(\"../data/raw/trends.csv\")\n",
    "\n",
    "# Asegurar formato de fecha\n",
    "df_youtube[\"publishedAt\"] = pd.to_datetime(df_youtube[\"publishedAt\"]).dt.date\n",
    "df_trends[\"date\"] = pd.to_datetime(df_trends[\"date\"]).dt.date\n",
    "\n",
    "# Unir datasets por fecha\n",
    "df_merge = pd.merge(df_youtube, df_trends, left_on=\"publishedAt\", right_on=\"date\", how=\"left\")\n",
    "\n",
    "# Guardar dataset final\n",
    "df_merge.to_csv(\"../data/processed/final_dataset.csv\", index=False)\n",
    "print(\"✅ Dataset combinado guardado en data/processed/youtube_trends_dataset.csv\")"
   ]
  },
  {
   "cell_type": "code",
   "execution_count": 1,
   "id": "84bc2895",
   "metadata": {},
   "outputs": [],
   "source": [
    "\n",
    "import pandas as pd\n",
    "from textblob import TextBlob"
   ]
  },
  {
   "cell_type": "code",
   "execution_count": null,
   "id": "36ebf375",
   "metadata": {},
   "outputs": [],
   "source": [
    "# 1. Cargar dataset combinado (YouTube + Google Trends)\n",
    "df = pd.read_csv(\"../data/processed/videos.csv\")\n",
    "\n",
    "# 2. Función para clasificar sentimiento\n",
    "def get_sentiment(text):\n",
    "    analysis = TextBlob(str(text))\n",
    "    polarity = analysis.sentiment.polarity\n",
    "    if polarity > 0:\n",
    "        return \"Positivo\"\n",
    "    elif polarity < 0:\n",
    "        return \"Negativo\"\n",
    "    else:\n",
    "        return \"Neutro\"\n",
    "\n",
    "# 3. Aplicar análisis sobre títulos\n",
    "df[\"sentiment\"] = df[\"title\"].apply(get_sentiment)\n",
    "\n",
    "# 4. Guardar dataset enriquecido\n",
    "output_path = \"../data/processed/youtube_trends_sentiment.csv\"\n",
    "df.to_csv(output_path, index=False)\n",
    "\n",
    "print(\"✅ Análisis de sentimiento completado.\")\n",
    "print(f\"Archivo guardado en: {output_path}\")\n",
    "\n",
    "# 5. Vista previa\n",
    "print(df[[\"title\", \"sentiment\"]].head(10))"
   ]
  }
 ],
 "metadata": {
  "kernelspec": {
   "display_name": "base",
   "language": "python",
   "name": "python3"
  },
  "language_info": {
   "codemirror_mode": {
    "name": "ipython",
    "version": 3
   },
   "file_extension": ".py",
   "mimetype": "text/x-python",
   "name": "python",
   "nbconvert_exporter": "python",
   "pygments_lexer": "ipython3",
   "version": "3.12.7"
  }
 },
 "nbformat": 4,
 "nbformat_minor": 5
}
