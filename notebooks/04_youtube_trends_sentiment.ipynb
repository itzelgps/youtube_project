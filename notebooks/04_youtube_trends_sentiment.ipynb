{
 "cells": [
  {
   "cell_type": "code",
   "execution_count": null,
   "id": "eccd8a78",
   "metadata": {},
   "outputs": [],
   "source": [
    "# ------------------------------------------\n",
    "# Fase 4 - Inteligencia Artificial Aplicada\n",
    "# Análisis de Sentimiento en Títulos de YouTube\n",
    "# ------------------------------------------\n",
    "\n",
    "import pandas as pd\n",
    "from textblob import TextBlob"
   ]
  },
  {
   "cell_type": "code",
   "execution_count": 13,
   "id": "c7b86714",
   "metadata": {},
   "outputs": [
    {
     "name": "stdout",
     "output_type": "stream",
     "text": [
      "✅ Análisis de sentimiento completado.\n",
      "Archivo guardado en: ../data/processed/youtube_trends_sentiment.csv\n",
      "                                               title sentiment\n",
      "0  Unleash Your Potential and Break Free from the...  Positivo\n",
      "1                         Increase concentration 10X    Neutro\n",
      "2                              Input VS Output Goals    Neutro\n",
      "3                                    How to not quit    Neutro\n",
      "4                                 Passion Hypothesis    Neutro\n",
      "5  Mastering a New Skill Avoiding Hype and Stay C...  Positivo\n",
      "6             Data Science is Applicable Everywhere!    Neutro\n",
      "7  Unlock Your Full Potential Through Continuous ...  Positivo\n",
      "8  Like a personal trainer for your ambitions, bu...  Positivo\n",
      "9  Unlock Your Extraordinary Potential with the A...  Positivo\n"
     ]
    }
   ],
   "source": [
    "# 1. Cargar dataset combinado (YouTube + Google Trends)\n",
    "df = pd.read_csv(\"../data/processed/videos.csv\")\n",
    "\n",
    "# 2. Función para clasificar sentimiento\n",
    "def get_sentiment(text):\n",
    "    analysis = TextBlob(str(text))\n",
    "    polarity = analysis.sentiment.polarity\n",
    "    if polarity > 0:\n",
    "        return \"Positivo\"\n",
    "    elif polarity < 0:\n",
    "        return \"Negativo\"\n",
    "    else:\n",
    "        return \"Neutro\"\n",
    "\n",
    "# 3. Aplicar análisis sobre títulos\n",
    "df[\"sentiment\"] = df[\"title\"].apply(get_sentiment)\n",
    "\n",
    "# 4. Guardar dataset enriquecido\n",
    "output_path = \"../data/processed/youtube_trends_sentiment.csv\"\n",
    "df.to_csv(output_path, index=False)\n",
    "\n",
    "print(\"✅ Análisis de sentimiento completado.\")\n",
    "print(f\"Archivo guardado en: {output_path}\")\n",
    "\n",
    "# 5. Vista previa\n",
    "print(df[[\"title\", \"sentiment\"]].head(10))\n",
    "\n"
   ]
  }
 ],
 "metadata": {
  "kernelspec": {
   "display_name": "base",
   "language": "python",
   "name": "python3"
  },
  "language_info": {
   "codemirror_mode": {
    "name": "ipython",
    "version": 3
   },
   "file_extension": ".py",
   "mimetype": "text/x-python",
   "name": "python",
   "nbconvert_exporter": "python",
   "pygments_lexer": "ipython3",
   "version": "3.12.7"
  }
 },
 "nbformat": 4,
 "nbformat_minor": 5
}
